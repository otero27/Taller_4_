{
  "nbformat": 4,
  "nbformat_minor": 0,
  "metadata": {
    "colab": {
      "provenance": [],
      "authorship_tag": "ABX9TyOBzqNBI2XhYzBnyc94mGcD",
      "include_colab_link": true
    },
    "kernelspec": {
      "name": "python3",
      "display_name": "Python 3"
    },
    "language_info": {
      "name": "python"
    }
  },
  "cells": [
    {
      "cell_type": "markdown",
      "metadata": {
        "id": "view-in-github",
        "colab_type": "text"
      },
      "source": [
        "<a href=\"https://colab.research.google.com/github/otero27/Taller_4_/blob/main/Taller_4.ipynb\" target=\"_parent\"><img src=\"https://colab.research.google.com/assets/colab-badge.svg\" alt=\"Open In Colab\"/></a>"
      ]
    },
    {
      "cell_type": "markdown",
      "source": [
        "#TALLER 4\n",
        "### Fundamentos de la Programación\n",
        "\n",
        "**Estudiantes:** Wilson Otero, Andres Gomez\n",
        "\n",
        "*fecha:* 02/10/2024"
      ],
      "metadata": {
        "id": "C25r2dbCPtYo"
      }
    },
    {
      "cell_type": "markdown",
      "source": [
        "### Problema 2\n",
        "\n",
        "Calculadora de Promedio Ponderado\n",
        "Desarrolla un programa que permita calcular el promedio ponderado de una serie de notas. El\n",
        "programa debe pedir al usuario ingresar una calificación y su respectivo porcentaje o peso en cada\n",
        "iteración. Una vez ingresada una calificación con su peso, el programa debe preguntar si desea\n",
        "ingresar otra más. Si el usuario responde \"no\", el programa calcula y muestra el promedio ponderado\n",
        "basado en los valores ingresados hasta ese momento.\n"
      ],
      "metadata": {
        "id": "GRVDO09ZRT1H"
      }
    },
    {
      "cell_type": "markdown",
      "source": [
        "### Algoritmo\n",
        "\n",
        "1. Iniciar\n",
        "2. Inicializar las variables total_calificaciones y total_pesos = 0\n",
        "3. Declarar las variables promedio_ponderado, nota y su peso\n",
        "4. Repetir las siguientes instruccciones mientras el usuario ingresa sus calificaciones:\n",
        "- Obtener una calificación.\n",
        "- Obtener el porcentaje .\n",
        "- Sumar calificacion * porcentaje a total_calificaciones.\n",
        "- Sumar porcentaje a total_pesos.\n",
        "- Preguntar al usuario si desea agregar otra calificación.\n",
        "4. Si total_pesos es mayor que 0:\n",
        "- Calcular promedio_ponderado como total_calificaciones / total_pesos.\n",
        "- Imprimir el promedio ponderado.\n",
        "5. Si no se ingresaron calificaciones válidas, mostrar el mensaje: \"No valido\"\n",
        "6. Finalizar"
      ],
      "metadata": {
        "id": "0eLt_C2AU0B0"
      }
    },
    {
      "cell_type": "markdown",
      "source": [
        "###Pseudocodigo\n",
        "```\n",
        "Iniciar\n",
        "\n",
        "  total_calificaciones = 0\n",
        "  total_pesos = 0\n",
        "\n",
        "  Repetir mientras el usuario quiera agregar calificaciones:\n",
        "    Leer calificación\n",
        "    Leer peso\n",
        "    total_calificaciones = total_calificaciones + (calificación * peso)\n",
        "    total_pesos = total_pesos + peso\n",
        "    Preguntar al usuario si desea agregar otra calificación\n",
        "\n",
        "  Si total_pesos > 0:\n",
        "    promedio_ponderado = total_calificaciones / total_pesos\n",
        "    Imprimir promedio_ponderado\n",
        "  Sino:\n",
        "    Imprimir \"No válido\"\n",
        "\n",
        "Fin\n",
        "```"
      ],
      "metadata": {
        "id": "7xe_rAgAcme5"
      }
    },
    {
      "cell_type": "markdown",
      "source": [
        "### Codigo en python"
      ],
      "metadata": {
        "id": "ACQzLM2Vex9z"
      }
    },
    {
      "source": [
        "# inicializamos las variables\n",
        "total_calificaciones = 0\n",
        "total_pesos = 0\n",
        "\n",
        "while True:\n",
        "  #solicitar calificacionón y peso\n",
        "  calificacion = float(input(\"Ingrese una calificación: \"))\n",
        "  peso = float(input(\"Ingrese el peso de la calificación (en porcentaje): \"))\n",
        "  # Sumar productos de calificaciones por sus pesos\n",
        "  total_calificaciones += calificacion * peso\n",
        "  total_pesos += peso\n",
        "\n",
        "  # Preguntar si desea agregar otra calificación\n",
        "  otra_calificacion = input(\"¿Desea agregar otra calificación? (si/no): \")\n",
        "  if otra_calificacion.lower() != \"si\":\n",
        "    break\n",
        "# Calcular el promedio ponderado\n",
        "if total_pesos > 0:\n",
        "  promedio_ponderado = total_calificaciones / total_pesos\n",
        "  print(\"El promedio ponderado es:\", promedio_ponderado)\n",
        "else:\n",
        "  print(\"No válido\")"
      ],
      "cell_type": "code",
      "metadata": {
        "colab": {
          "base_uri": "https://localhost:8080/"
        },
        "id": "RHr76irYewWS",
        "outputId": "1d47b8bf-b192-42a9-d760-f9c0db5c2570"
      },
      "execution_count": null,
      "outputs": [
        {
          "output_type": "stream",
          "name": "stdout",
          "text": [
            "Ingrese una calificación: 5\n",
            "Ingrese el peso de la calificación (en porcentaje): 40\n",
            "¿Desea agregar otra calificación? (si/no): si\n",
            "Ingrese una calificación: 3\n",
            "Ingrese el peso de la calificación (en porcentaje): 20\n",
            "¿Desea agregar otra calificación? (si/no): si\n",
            "Ingrese una calificación: 1.5\n",
            "Ingrese el peso de la calificación (en porcentaje): 10\n",
            "¿Desea agregar otra calificación? (si/no): si\n",
            "Ingrese una calificación: 1\n",
            "Ingrese el peso de la calificación (en porcentaje): 10\n",
            "¿Desea agregar otra calificación? (si/no): si\n",
            "Ingrese una calificación: 5\n",
            "Ingrese el peso de la calificación (en porcentaje): 20\n",
            "¿Desea agregar otra calificación? (si/no): no\n",
            "El promedio ponderado es: 3.85\n"
          ]
        }
      ]
    },
    {
      "cell_type": "markdown",
      "source": [
        "# Problema 1\n",
        "\n",
        "Generador de Discurso Político\n",
        "Imagina que formas parte de un equipo de campaña que nec5esita crear discursos políticos\n",
        "rápidamente. Para ello, contarás con una tabla de palabras y frases predefinidas para distintas\n",
        "secciones de un discurso: título, público objetivo, condición social, compromiso político, lucha social,\n",
        "promesa, beneficio populista y cantidad de votos (ver Fig. 1). El programa deberá construir un\n",
        "mensaje político seleccionando aleatoriamente una palabra o frase de cada categoría. El mensaje final\n",
        "debe mostrarse al terminar la ejecución del programa. Se recomienda el uso de listas, ciclos y la\n",
        "función de selección aleatoria para generar el discurso. Ejemplo: “Apreciados amigos con su ayuda\n",
        "venceré la pobreza y promoveré la igualdad de la comunidad.”\n",
        "\n"
      ],
      "metadata": {
        "id": "kN2657_GgOfp"
      }
    },
    {
      "cell_type": "markdown",
      "source": [
        "```\n",
        "titulos = [\"Queridos\", \"Apreciados\", \"Distinguidos\", \"Honorables\", \"Estimados\", \"Respetados\"]\n",
        "publico_objetivo = [\"Compatriotas\", \"Copartidarios\", \"Amigos\", \"Coterraneos\", \"Conciudadanos\", \"Electores\"]\n",
        "condiciones = [\"En mi gobierno\", \"Con su apoyo\", \"Siendo elegido\", \"Con su ayuda\", \"Si me siguen\", \"Durante mi mandato\"]\n",
        "compromisos = [\"Voy a derrotar\", \"Venceré\", \"Eliminaré\", \"Acabaré\", \"Lucharé contra\", \"Combatiré\"]\n",
        "ilusiones_lucha = [\"La violencia y\", \"La delincuencia y\", \"La corrupción y\", \"La inflación y\", \"La pobreza y\", \"El hambre y\"]\n",
        "promesas = [\"Trabajaré por\", \"Garantizaré\", \"Protegeré\", \"Velaré por\", \"Promoveré\", \"Defenderé\"]\n",
        "beneficios_populistas = [\"La educación\", \"El empleo\", \"La seguridad\", \"La paz\", \"La igualdad\", \"La salud\"]\n",
        "cantidad_votos = [\"Del país\", \"De la ciudad\", \"De la comunidad\", \"De la población\", \"Para toda la gente\", \"De cada colombiano\"]\n",
        "```"
      ],
      "metadata": {
        "id": "7RJmfLRNgv9c"
      }
    },
    {
      "cell_type": "markdown",
      "source": [
        "### Algoritmo\n",
        "1. Iniciar\n",
        "2. Crear una lista llamada \"discurso\"\n",
        "3. Para cada elemento en la lista \"titulos\":\n",
        "- Añadir el elemento a la lista \"discurso\"\n",
        "4. Para cada elemento en la lista \"publico_objetivo\":\n",
        "- Añadir el elemento a la lista \"discurso\"\n",
        "5. Para cada elemento en la lista \"condiciones\":\n",
        "- Añadir el elemento a la lista \"discurso\"\n",
        "6. Para cada elemento en la lista \"compromisos\":\n",
        "- Añadir el elemento a la lista \"discurso\"\n",
        "7. Para cada elemento en la lista \"ilusiones_lucha\":\n",
        "- Añadir el elemento a la lista \"discurso\"\n",
        "8. Para cada elemento en la lista \"promesas\":\n",
        "- Añadir el elemento a la lista \"discurso\"\n",
        "9. Para cada elemento en la lista \"beneficios_populistas\":\n",
        "- Añadir el elemento a la lista \"discurso\"\n",
        "10. Para cada elemento en la lista \"cantidad_votos\":\n",
        "- Añadir el elemento a la lista \"discurso\"\n",
        "11. Agregar la lista \"discurso\"\n",
        "12. Finalizar"
      ],
      "metadata": {
        "id": "VyZ6pEE6g3m8"
      }
    },
    {
      "cell_type": "markdown",
      "source": [
        "### Pseudocodigo\n",
        "```\n",
        "Program GeneradorDiscursoPolitico\n",
        "// Programa para generar un discurso político aleatorio\n",
        "\n",
        "Start\n",
        "// Declarar listas para cada categoría\n",
        "\n",
        "Declare list TITULOS = [\"Queridos\", \"Apreciados\", \"Distinguidos\", \"Honorables\", \"Estimados\", \"Respetados\"]\n",
        "\n",
        "Declare list PUBLICO_OBJETIVO = [\"Compatriotas\", \"Copartidarios\", \"Amigos\", \"Coterraneos\", \"Conciudadanos\", \"Electores\"]\n",
        "\n",
        "Declare list CONDICIONES = [\"En mi gobierno\", \"Con su apoyo\", \"Siendo elegido\", \"Con su ayuda\", \"Si me siguen\", \"Durante mi mandato\"]\n",
        "\n",
        "Declare list COMPROMISOS = [\"Voy a derrotar\", \"Venceré\", \"Eliminaré\", \"Acabaré\", \"Lucharé contra\", \"Combatiré\"]\n",
        "\n",
        "Declare list ILUSIONES_LUCHA = [\"La violencia y\", \"La delincuencia y\", \"La corrupción y\", \"La inflación y\", \"La pobreza y\", \"El hambre y\"]\n",
        "\n",
        "Declare list PROMESAS = [\"Trabajaré por\", \"Garantizaré\", \"Protegeré\", \"Velaré por\", \"Promoveré\", \"Defenderé\"]\n",
        "\n",
        "Declare list BENEFICIOS_POPULISTAS = [\"La educación\", \"El empleo\", \"La seguridad\", \"La paz\", \"La igualdad\", \"La salud\"]\n",
        "\n",
        "Declare list CANTIDAD_VOTOS = [\"Del país\", \"De la ciudad\", \"De la comunidad\", \"De la población\", \"Para toda la gente\", \"De cada colombiano\"]\n",
        "\n",
        "// Declarar variables para almacenar las selecciones\n",
        "Declare String TITULO\n",
        "Declare String AUDIENCIA\n",
        "Declare String CONDICION\n",
        "Declare String COMPROMISO\n",
        "Declare String ILUSION\n",
        "Declare String PROMESA\n",
        "Declare String BENEFICIO\n",
        "Declare String VOTOS\n",
        "\n",
        "// Seleccionar aleatoriamente valores de cada lista\n",
        "Set TITULO = seleccionar aleatoriamente TITULO\n",
        "Set AUDIENCIA = seleccionar aleatoriamente PUBLICO_OBJETIVO\n",
        "Set CONDICION = seleccionar aleatoriamenteCONDICIONES\n",
        "Set COMPROMISO = seleccionar aleatoriamente COMPROMISOS\n",
        "Set ILUSION = seleccionar aleatoriamente ILUSIONES_LUCHA\n",
        "Set PROMESA = seleccionar aleatoriamente PROMESAS\n",
        "Set BENEFICIO = seleccionar aleatoriamente BENEFICIOS_POPULISTAS\n",
        "Set VOTOS = seleccionar aleatoriamente CANTIDAD_VOTOS\n",
        "\n",
        "// Construir el discurso concatenando las selecciones\n",
        "Declare String DISCURSO\n",
        "Set DISCURSO = TITULO + \" \" + AUDIENCIA + \", \" + CONDICION + \" \" + COMPROMISO + \" \" + ILUSION + \" \" + PROMESA + \" \" + BENEFICIO + \" \" + VOTOS + \".\"\n",
        "\n",
        "// Mostrar el discurso generado\n",
        "Display DISCURSO\n",
        "\n",
        "End\n"
      ],
      "metadata": {
        "id": "7pT1FUH1hNJG"
      }
    },
    {
      "cell_type": "code",
      "source": [
        "###codigo en python\n",
        "\n",
        "import random\n",
        "\n",
        "def generar_discurso():\n",
        "    # Listas de frases según las categorías de la imagen\n",
        "    titulos = [\"Queridos\", \"Apreciados\", \"Distinguidos\", \"Honorables\", \"Estimados\", \"Respetados\"]\n",
        "    publico_objetivo = [\"Compatriotas\", \"Copartidarios\", \"Amigos\", \"Coterráneos\", \"Conciudadanos\", \"Electores\"]\n",
        "    condiciones = [\"En mi gobierno\", \"Con su apoyo\", \"Siendo elegido\", \"Con su ayuda\", \"Si me siguen\", \"Durante mi mandato\"]\n",
        "    compromisos = [\"Voy a derrotar\", \"Venceré\", \"Eliminaré\", \"Acabaré\", \"Lucharé contra\", \"Combatiré\"]\n",
        "    luchas = [\"la violencia y\", \"la injusticia y\", \"la corrupción y\", \"la inflación y\", \"la pobreza y\", \"_\"]\n",
        "    promesas = [\"Trabajaré por\", \"Garantizaré\", \"Protegeré\", \"Velaré por\", \"Promoveré\", \"Defenderé\"]\n",
        "    beneficios = [\"la educación\", \"el empleo\", \"la seguridad\", \"la paz\", \"la igualdad\", \"la salud\"]\n",
        "    votos = [\"del país\", \"de la ciudad\", \"de la comunidad\", \"de la población\", \"para toda la gente\", \"de cada colombiano\"]\n",
        "\n",
        "    # Selección aleatoria de cada parte del discurso\n",
        "    titulo = random.choice(titulos)\n",
        "    objetivo = random.choice(publico_objetivo)\n",
        "    condicion = random.choice(condiciones)\n",
        "    compromiso = random.choice(compromisos)\n",
        "    lucha = random.choice(luchas)\n",
        "    promesa = random.choice(promesas)\n",
        "    beneficio = random.choice(beneficios)\n",
        "    cantidad_votos = random.choice(votos)\n",
        "\n",
        "    # Crear el discurso con un tono humanista\n",
        "    discurso = (f\"{titulo} {objetivo},\\n\\n\"\n",
        "                f\"{condicion}, {compromiso} {lucha} \"\n",
        "                f\"{promesa} {beneficio}, {cantidad_votos}. \"\n",
        "                f\"Juntos construiremos un futuro donde la empatía, la solidaridad y el bienestar común \"\n",
        "                f\"sean nuestras guías para avanzar como sociedad. Sé que con su apoyo, \"\n",
        "                f\"podemos lograr una comunidad más justa y equitativa para todos.\\n\\n\"\n",
        "                f\"Gracias por su confianza y compromiso con este sueño colectivo.\")\n",
        "\n",
        "    return discurso\n",
        "\n",
        "# Generar y mostrar el discurso\n",
        "discurso_politico = generar_discurso()\n",
        "print(discurso_politico)"
      ],
      "metadata": {
        "colab": {
          "base_uri": "https://localhost:8080/"
        },
        "id": "62SQOoCavlnV",
        "outputId": "1ceb63cd-c33f-4f44-abd9-2c9465a85c7e"
      },
      "execution_count": 1,
      "outputs": [
        {
          "output_type": "stream",
          "name": "stdout",
          "text": [
            "Honorables Coterráneos,\n",
            "\n",
            "En mi gobierno, Combatiré la inflación y Promoveré la paz, de cada colombiano. Juntos construiremos un futuro donde la empatía, la solidaridad y el bienestar común sean nuestras guías para avanzar como sociedad. Sé que con su apoyo, podemos lograr una comunidad más justa y equitativa para todos.\n",
            "\n",
            "Gracias por su confianza y compromiso con este sueño colectivo.\n"
          ]
        }
      ]
    }
  ]
}